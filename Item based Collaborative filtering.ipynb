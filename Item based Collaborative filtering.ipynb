{
 "cells": [
  {
   "cell_type": "code",
   "execution_count": 32,
   "metadata": {},
   "outputs": [],
   "source": [
    "import pandas as pd\n",
    "import numpy as np\n",
    "from sklearn.neighbors import NearestNeighbors\n",
    "from sklearn.preprocessing import StandardScaler"
   ]
  },
  {
   "cell_type": "code",
   "execution_count": 33,
   "metadata": {},
   "outputs": [],
   "source": [
    "df = pd.read_excel('data.xlsx')"
   ]
  },
  {
   "cell_type": "code",
   "execution_count": 34,
   "metadata": {},
   "outputs": [],
   "source": [
    "from sklearn.neighbors import NearestNeighbors\n",
    "knn = NearestNeighbors(metric='cosine', algorithm='brute')\n",
    "knn.fit(df.values)\n",
    "distances, indices = knn.kneighbors(df.values, n_neighbors=3)"
   ]
  },
  {
   "cell_type": "code",
   "execution_count": 35,
   "metadata": {},
   "outputs": [
    {
     "data": {
      "text/plain": [
       "array([[0.00000000e+00, 7.37723105e-03, 9.91490911e-03],\n",
       "       [0.00000000e+00, 3.18820552e-05, 1.23214028e-02],\n",
       "       [1.11022302e-16, 1.78231580e-05, 3.97253494e-05],\n",
       "       [0.00000000e+00, 3.97253494e-05, 4.21869614e-05],\n",
       "       [1.11022302e-16, 1.57076175e-02, 1.69468038e-02],\n",
       "       [0.00000000e+00, 1.99133459e-04, 7.37723105e-03],\n",
       "       [2.22044605e-16, 3.18820552e-05, 1.22725364e-02],\n",
       "       [0.00000000e+00, 1.78231580e-05, 4.21869614e-05],\n",
       "       [0.00000000e+00, 1.99133459e-04, 9.91490911e-03]])"
      ]
     },
     "execution_count": 35,
     "metadata": {},
     "output_type": "execute_result"
    }
   ],
   "source": [
    "distances"
   ]
  },
  {
   "cell_type": "code",
   "execution_count": 36,
   "metadata": {},
   "outputs": [
    {
     "name": "stdout",
     "output_type": "stream",
     "text": [
      "The Nearest cluster to cluster_0: [5, 8]\n",
      "The Distance from cluster_0: [0.007377231045750943, 0.009914909111222281]\n"
     ]
    }
   ],
   "source": [
    "# get the index for 'movie_0'\n",
    "index_for_cluster = df.index.tolist().index(0)\n",
    "# find the indices for the similar movies\n",
    "sim_segments = indices[index_for_cluster].tolist()\n",
    "# distances between 'movie_0' and the similar movies\n",
    "segment_distances = distances[index_for_cluster].tolist()\n",
    "# the position of 'movie_0' in the list sim_movies\n",
    "id_movie = sim_segments.index(index_for_cluster)\n",
    "# remove 'movie_0' from the list sim_movies\n",
    "sim_segments.remove(index_for_cluster)\n",
    "# remove 'movie_0' from the list movie_distances\n",
    "segment_distances.pop(id_movie)\n",
    "print('The Nearest cluster to cluster_0:', sim_segments)\n",
    "print('The Distance from cluster_0:', segment_distances)"
   ]
  },
  {
   "cell_type": "code",
   "execution_count": 37,
   "metadata": {},
   "outputs": [],
   "source": [
    "df1 = df.copy()\n",
    "\n",
    "# find the nearest neighbors using NearestNeighbors(n_neighbors=3)\n",
    "number_neighbors = 3\n",
    "knn = NearestNeighbors(metric='cosine', algorithm='brute')\n",
    "knn.fit(df.values)\n",
    "distances, indices = knn.kneighbors(df.values, n_neighbors=number_neighbors)\n",
    "\n",
    "# convert user_name to user_index\n",
    "user_index = df.columns.tolist().index('TN_Аксессуары')\n",
    "\n",
    "# t: movie_title, m: the row number of t in df\n",
    "for m,t in list(enumerate(df.index)):\n",
    "  \n",
    "  # find movies without ratings by user_4\n",
    "  if df.iloc[m, user_index] == 0:\n",
    "    sim_segments = indices[m].tolist()\n",
    "    segment_distances = distances[m].tolist()\n",
    "    \n",
    "    # Generally, this is the case: indices[3] = [3 6 7]. The movie itself is in the first place.\n",
    "    # In this case, we take off 3 from the list. Then, indices[3] == [6 7] to have the nearest NEIGHBORS in the list. \n",
    "    if m in sim_segments:\n",
    "      id_movie = sim_segments.index(m)\n",
    "      sim_segments.remove(m)\n",
    "      segment_distances.pop(id_movie) \n",
    "    else:\n",
    "      sim_segments = sim_segments[:n_neighbors-1]\n",
    "      segment_distances = segment_distances[:n_neighbors-1]\n",
    "        \n",
    "    # movie_similarty = 1 - movie_distance    \n",
    "    movie_similarity = [1-x for x in segment_distances]\n",
    "    movie_similarity_copy = movie_similarity.copy()\n",
    "    nominator = 0\n",
    "\n",
    "    # for each similar movie\n",
    "    for s in range(0, len(movie_similarity)):\n",
    "      \n",
    "      # check if the rating of a similar movie is zero\n",
    "      if df.iloc[sim_segments[s], user_index] == 0:\n",
    "\n",
    "        # if the rating is zero, ignore the rating and the similarity in calculating the predicted rating\n",
    "        if len(movie_similarity_copy) == (number_neighbors - 1):\n",
    "          movie_similarity_copy.pop(s)\n",
    "          \n",
    "        else:\n",
    "          movie_similarity_copy.pop(s-(len(movie_similarity)-len(movie_similarity_copy)))\n",
    "\n",
    "      # if the rating is not zero, use the rating and similarity in the calculation\n",
    "      else:\n",
    "        nominator = nominator + movie_similarity[s]*df.iloc[sim_segments[s],user_index]\n",
    "\n",
    "    if len(movie_similarity_copy) > 0:\n",
    "      \n",
    "        # check if the sum of the ratings of the similar movies is positive.\n",
    "        if sum(movie_similarity_copy) > 0:\n",
    "          predicted_r = nominator/sum(movie_similarity_copy)\n",
    "\n",
    "        # Even if there are some movies for which the ratings are positive, some movies have zero similarity even though they are selected as similar movies.\n",
    "        # in this case, the predicted rating becomes zero as well  \n",
    "        else:\n",
    "          predicted_r = 0\n",
    "\n",
    "        # if all the ratings of the similar movies are zero, then predicted rating should be zero\n",
    "    else:\n",
    "      predicted_r = 0\n",
    "\n",
    "# place the predicted rating into the copy of the original dataset\n",
    "    df1.iloc[m,user_index] = predicted_r"
   ]
  },
  {
   "cell_type": "code",
   "execution_count": 38,
   "metadata": {},
   "outputs": [],
   "source": [
    "def recommend_movies(user, num_recommended_movies):\n",
    "\n",
    "  print('The list of the Movies {} Has Watched \\n'.format(user))\n",
    "\n",
    "  for m in df[df[user] > 0][user].index.tolist():\n",
    "    print(m)\n",
    "  \n",
    "  print('\\n')\n",
    "\n",
    "  recommended_movies = []\n",
    "\n",
    "  for m in df[df[user] == 0].index.tolist():\n",
    "\n",
    "    index_df = df.index.tolist().index(m)\n",
    "    predicted_rating = df1.iloc[index_df, df1.columns.tolist().index(user)]\n",
    "    recommended_movies.append((m, predicted_rating))\n",
    "\n",
    "  sorted_rm = sorted(recommended_movies, key=lambda x:x[1], reverse=True)\n",
    "  \n",
    "  print('The list of the Recommended Movies \\n')\n",
    "  rank = 1\n",
    "  for recommended_movie in sorted_rm[:num_recommended_movies]:\n",
    "    \n",
    "    print('{}: {} - predicted rating:{}'.format(rank, recommended_movie[0], recommended_movie[1]))\n",
    "    rank = rank + 1"
   ]
  },
  {
   "cell_type": "code",
   "execution_count": 39,
   "metadata": {},
   "outputs": [
    {
     "name": "stdout",
     "output_type": "stream",
     "text": [
      "The list of the Movies TN_Климат Has Watched \n",
      "\n",
      "0\n",
      "2\n",
      "3\n",
      "4\n",
      "5\n",
      "6\n",
      "7\n",
      "\n",
      "\n",
      "The list of the Recommended Movies \n",
      "\n",
      "1: 1 - predicted rating:0.0\n",
      "2: 8 - predicted rating:0.0\n"
     ]
    }
   ],
   "source": [
    "recommend_movies('TN_Климат', 5)"
   ]
  },
  {
   "cell_type": "code",
   "execution_count": 40,
   "metadata": {},
   "outputs": [],
   "source": [
    "def movie_recommender(user, num_neighbors, num_recommendation):\n",
    "\n",
    "  number_neighbors = num_neighbors\n",
    "\n",
    "  knn = NearestNeighbors(metric='cosine', algorithm='brute')\n",
    "  knn.fit(df.values)\n",
    "  distances, indices = knn.kneighbors(df.values, n_neighbors=number_neighbors)\n",
    "\n",
    "  user_index = df.columns.tolist().index(user)\n",
    "\n",
    "  for m,t in list(enumerate(df.index)):\n",
    "    if df.iloc[m, user_index] == 0:\n",
    "      sim_movies = indices[m].tolist()\n",
    "      movie_distances = distances[m].tolist()\n",
    "    \n",
    "      if m in sim_movies:\n",
    "        id_movie = sim_movies.index(m)\n",
    "        sim_movies.remove(m)\n",
    "        movie_distances.pop(id_movie) \n",
    "\n",
    "      else:\n",
    "        sim_movies = sim_movies[:n_neighbors-1]\n",
    "        movie_distances = movie_distances[:n_neighbors-1]\n",
    "           \n",
    "      movie_similarity = [1-x for x in movie_distances]\n",
    "      movie_similarity_copy = movie_similarity.copy()\n",
    "      nominator = 0\n",
    "\n",
    "      for s in range(0, len(movie_similarity)):\n",
    "        if df.iloc[sim_movies[s], user_index] == 0:\n",
    "          if len(movie_similarity_copy) == (number_neighbors - 1):\n",
    "            movie_similarity_copy.pop(s)\n",
    "          \n",
    "          else:\n",
    "            movie_similarity_copy.pop(s-(len(movie_similarity)-len(movie_similarity_copy)))\n",
    "            \n",
    "        else:\n",
    "          nominator = nominator + movie_similarity[s]*df.iloc[sim_movies[s],user_index]\n",
    "          \n",
    "      if len(movie_similarity_copy) > 0:\n",
    "        if sum(movie_similarity_copy) > 0:\n",
    "          predicted_r = nominator/sum(movie_similarity_copy)\n",
    "        \n",
    "        else:\n",
    "          predicted_r = 0\n",
    "\n",
    "      else:\n",
    "        predicted_r = 0\n",
    "        \n",
    "      df1.iloc[m,user_index] = predicted_r\n",
    "  recommend_movies(user, num_recommendation)"
   ]
  },
  {
   "cell_type": "code",
   "execution_count": 41,
   "metadata": {},
   "outputs": [
    {
     "name": "stdout",
     "output_type": "stream",
     "text": [
      "The list of the Movies TN_Автотовары Has Watched \n",
      "\n",
      "1\n",
      "5\n",
      "\n",
      "\n",
      "The list of the Recommended Movies \n",
      "\n",
      "1: 0 - predicted rating:0.002622377622377622\n",
      "2: 8 - predicted rating:0.002622377622377622\n",
      "3: 6 - predicted rating:0.0009772142244255887\n",
      "4: 2 - predicted rating:0.0\n"
     ]
    }
   ],
   "source": [
    "movie_recommender('TN_Автотовары', 3, 4)"
   ]
  },
  {
   "cell_type": "code",
   "execution_count": 42,
   "metadata": {},
   "outputs": [
    {
     "name": "stdout",
     "output_type": "stream",
     "text": [
      "The list of the Movies TN_Автотовары Has Watched \n",
      "\n",
      "1\n",
      "5\n",
      "\n",
      "\n",
      "The list of the Recommended Movies \n",
      "\n",
      "1: 0 - predicted rating:0.002622377622377622\n",
      "2: 8 - predicted rating:0.002622377622377622\n",
      "3: 6 - predicted rating:0.0009772142244255887\n",
      "4: 2 - predicted rating:0.0\n"
     ]
    }
   ],
   "source": [
    "movie_recommender('TN_Автотовары', 3, 4)"
   ]
  },
  {
   "cell_type": "code",
   "execution_count": 44,
   "metadata": {},
   "outputs": [
    {
     "name": "stdout",
     "output_type": "stream",
     "text": [
      "The list of the Movies TN_Аксессуары Has Watched \n",
      "\n",
      "0\n",
      "1\n",
      "2\n",
      "3\n",
      "4\n",
      "5\n",
      "6\n",
      "7\n",
      "8\n",
      "\n",
      "\n",
      "The list of the Recommended Movies \n",
      "\n"
     ]
    }
   ],
   "source": [
    "movie_recommender('TN_Аксессуары', 3, 4)"
   ]
  },
  {
   "cell_type": "code",
   "execution_count": 45,
   "metadata": {},
   "outputs": [
    {
     "name": "stdout",
     "output_type": "stream",
     "text": [
      "The list of the Movies TN_Детские товары Has Watched \n",
      "\n",
      "0\n",
      "1\n",
      "2\n",
      "3\n",
      "4\n",
      "5\n",
      "7\n",
      "\n",
      "\n",
      "The list of the Recommended Movies \n",
      "\n",
      "1: 8 - predicted rating:0.4828451600481376\n",
      "2: 6 - predicted rating:0.137715702164172\n"
     ]
    }
   ],
   "source": [
    "movie_recommender('TN_Детские товары', 3, 4)"
   ]
  },
  {
   "cell_type": "code",
   "execution_count": 46,
   "metadata": {},
   "outputs": [
    {
     "name": "stdout",
     "output_type": "stream",
     "text": [
      "The list of the Movies TN_Игры, софт и развлечения Has Watched \n",
      "\n",
      "0\n",
      "1\n",
      "2\n",
      "3\n",
      "5\n",
      "6\n",
      "8\n",
      "\n",
      "\n",
      "The list of the Recommended Movies \n",
      "\n",
      "1: 7 - predicted rating:1.0625114208755166\n",
      "2: 4 - predicted rating:0.125\n"
     ]
    }
   ],
   "source": [
    "movie_recommender('TN_Игры, софт и развлечения', 3, 4)"
   ]
  },
  {
   "cell_type": "code",
   "execution_count": 47,
   "metadata": {},
   "outputs": [
    {
     "name": "stdout",
     "output_type": "stream",
     "text": [
      "The list of the Movies TN_Мебель Has Watched \n",
      "\n",
      "0\n",
      "1\n",
      "3\n",
      "4\n",
      "6\n",
      "7\n",
      "\n",
      "\n",
      "The list of the Recommended Movies \n",
      "\n",
      "1: 8 - predicted rating:1.3553251649387372\n",
      "2: 5 - predicted rating:1.355325164938737\n",
      "3: 2 - predicted rating:1.187508898021298\n"
     ]
    }
   ],
   "source": [
    "movie_recommender('TN_Мебель', 3, 4)"
   ]
  },
  {
   "cell_type": "code",
   "execution_count": 48,
   "metadata": {},
   "outputs": [
    {
     "name": "stdout",
     "output_type": "stream",
     "text": [
      "The list of the Movies TN_Мелкая бытовая техника Has Watched \n",
      "\n",
      "0\n",
      "1\n",
      "2\n",
      "3\n",
      "4\n",
      "5\n",
      "7\n",
      "8\n",
      "\n",
      "\n",
      "The list of the Recommended Movies \n",
      "\n",
      "1: 6 - predicted rating:0.49604149752609195\n"
     ]
    }
   ],
   "source": [
    "movie_recommender('TN_Мелкая бытовая техника', 3, 4)"
   ]
  },
  {
   "cell_type": "code",
   "execution_count": 50,
   "metadata": {},
   "outputs": [
    {
     "name": "stdout",
     "output_type": "stream",
     "text": [
      "The list of the Movies TN_Товары для дома Has Watched \n",
      "\n",
      "0\n",
      "1\n",
      "2\n",
      "3\n",
      "4\n",
      "5\n",
      "7\n",
      "8\n",
      "\n",
      "\n",
      "The list of the Recommended Movies \n",
      "\n",
      "1: 6 - predicted rating:0.14540934158378765\n"
     ]
    }
   ],
   "source": [
    "movie_recommender('TN_Товары для дома', 3, 4)"
   ]
  },
  {
   "cell_type": "code",
   "execution_count": 53,
   "metadata": {},
   "outputs": [
    {
     "name": "stdout",
     "output_type": "stream",
     "text": [
      "The list of the Movies TN_Цифровая Техника Has Watched \n",
      "\n",
      "0\n",
      "2\n",
      "3\n",
      "4\n",
      "5\n",
      "6\n",
      "7\n",
      "8\n",
      "\n",
      "\n",
      "The list of the Recommended Movies \n",
      "\n",
      "1: 1 - predicted rating:0.2694209790440791\n"
     ]
    }
   ],
   "source": [
    "movie_recommender('TN_Цифровая Техника', 3, 4)"
   ]
  },
  {
   "cell_type": "code",
   "execution_count": null,
   "metadata": {},
   "outputs": [],
   "source": [
    "movie_recommender('TN_Цифровая Техника', 3, 4)"
   ]
  },
  {
   "cell_type": "code",
   "execution_count": 54,
   "metadata": {},
   "outputs": [
    {
     "name": "stdout",
     "output_type": "stream",
     "text": [
      "The list of the Movies TN_Элитная техника Has Watched \n",
      "\n",
      "0\n",
      "\n",
      "\n",
      "The list of the Recommended Movies \n",
      "\n",
      "1: 5 - predicted rating:0.002827521206409048\n",
      "2: 8 - predicted rating:0.002827521206409048\n",
      "3: 1 - predicted rating:0.0\n",
      "4: 2 - predicted rating:0.0\n"
     ]
    }
   ],
   "source": [
    "movie_recommender('TN_Элитная техника', 3, 4)"
   ]
  },
  {
   "cell_type": "code",
   "execution_count": 43,
   "metadata": {},
   "outputs": [],
   "source": [
    "#['TN_Автотовары', 'TN_Аксессуары', 'TN_Детские товары',\n",
    " #      'TN_Игры, софт и развлечения', 'TN_Климат',\n",
    "  #     'TN_Крупная бытовая техника', 'TN_Мебель', 'TN_Мелкая бытовая техника',\n",
    "   #    'TN_Товары для дома', 'TN_Услуги', 'TN_Хобби, досуг',\n",
    "  #     'TN_Цифровая Техника', 'TN_Элитная техника']"
   ]
  }
 ],
 "metadata": {
  "kernelspec": {
   "display_name": "Python 3",
   "language": "python",
   "name": "python3"
  },
  "language_info": {
   "codemirror_mode": {
    "name": "ipython",
    "version": 3
   },
   "file_extension": ".py",
   "mimetype": "text/x-python",
   "name": "python",
   "nbconvert_exporter": "python",
   "pygments_lexer": "ipython3",
   "version": "3.9.6"
  }
 },
 "nbformat": 4,
 "nbformat_minor": 2
}
